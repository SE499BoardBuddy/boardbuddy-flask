{
 "cells": [
  {
   "cell_type": "code",
   "execution_count": 9,
   "metadata": {},
   "outputs": [],
   "source": [
    "docs_list = [\n",
    "    {\n",
    "        'name': 'brass_birmingham',\n",
    "        'path': './example_pdf/Brass_Birmingham_Reference_Sheet_EN.pdf'\n",
    "    },\n",
    "    {\n",
    "        'name': 'pandemic_legacy_season_1',\n",
    "        'path': './example_pdf/Pandemic_Legacy_rules_English_no_spoilers.pdf'\n",
    "    },\n",
    "]"
   ]
  },
  {
   "cell_type": "code",
   "execution_count": 10,
   "metadata": {},
   "outputs": [],
   "source": [
    "from langchain.embeddings import OllamaEmbeddings\n",
    "embeddings = OllamaEmbeddings(model='nomic-embed-text') "
   ]
  },
  {
   "cell_type": "code",
   "execution_count": 11,
   "metadata": {},
   "outputs": [
    {
     "name": "stdout",
     "output_type": "stream",
     "text": [
      "loading brass_birmingham\n",
      "# of documents loaded (pre-chunking) = 2\n",
      "# of documents = 8\n",
      "qdrant finished\n",
      "\n",
      "loading pandemic_legacy_season_1\n",
      "# of documents loaded (pre-chunking) = 16\n",
      "# of documents = 107\n",
      "qdrant finished\n",
      "\n"
     ]
    }
   ],
   "source": [
    "from langchain_community.document_loaders import PyMuPDFLoader\n",
    "from langchain.text_splitter import RecursiveCharacterTextSplitter\n",
    "from langchain_qdrant import QdrantVectorStore\n",
    "import os\n",
    "from dotenv import load_dotenv\n",
    "\n",
    "load_dotenv(override=True)\n",
    "\n",
    "url = \"https://183e03de-cba4-4c31-9a62-be25dc87e60e.europe-west3-0.gcp.cloud.qdrant.io\"\n",
    "api_key = os.environ[\"QDRANT_KEY\"]\n",
    "\n",
    "for doc in docs_list:\n",
    "    print('loading', doc['name'])\n",
    "    loader = PyMuPDFLoader(doc['path'])\n",
    "    documents = loader.load()\n",
    "\n",
    "    for document in documents:\n",
    "        doc_md = document.metadata\n",
    "        document_name = doc_md[\"source\"].split(\"/\")[-1]\n",
    "        # derive doc source from Document loader\n",
    "        doc_source_suffix = \"/\".join(doc_md[\"source\"].split(\"/\")[4:-1])\n",
    "        source = f\"{doc_source_suffix}\"\n",
    "        document.metadata = {\"document_name\": document_name}\n",
    "\n",
    "    print(f\"# of documents loaded (pre-chunking) = {len(documents)}\")\n",
    "    \n",
    "    # split the documents into chunks\n",
    "    text_splitter = RecursiveCharacterTextSplitter(\n",
    "        chunk_size=512,\n",
    "        chunk_overlap=150,\n",
    "        separators=[\"\\n\\n\", \"\\n\", \".\", \"!\", \"?\", \",\", \" \", \"\"],\n",
    "    )\n",
    "    doc_splits = text_splitter.split_documents(documents)\n",
    "\n",
    "    # Add chunk number to metadata\n",
    "    for idx, split in enumerate(doc_splits):\n",
    "        split.metadata[\"chunk\"] = idx\n",
    "\n",
    "    print(f\"# of documents = {len(doc_splits)}\")\n",
    "\n",
    "    qdrant = QdrantVectorStore.from_documents(\n",
    "        doc_splits,\n",
    "        embeddings,\n",
    "        url=url,\n",
    "        prefer_grpc=True,\n",
    "        api_key=api_key,\n",
    "        collection_name=doc['name'],\n",
    "    )\n",
    "    print('qdrant finished')\n",
    "    print('')"
   ]
  }
 ],
 "metadata": {
  "kernelspec": {
   "display_name": "bibooTaxed",
   "language": "python",
   "name": "python3"
  },
  "language_info": {
   "codemirror_mode": {
    "name": "ipython",
    "version": 3
   },
   "file_extension": ".py",
   "mimetype": "text/x-python",
   "name": "python",
   "nbconvert_exporter": "python",
   "pygments_lexer": "ipython3",
   "version": "3.11.8"
  }
 },
 "nbformat": 4,
 "nbformat_minor": 2
}
