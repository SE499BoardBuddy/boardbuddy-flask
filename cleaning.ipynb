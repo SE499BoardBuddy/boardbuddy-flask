{
 "cells": [
  {
   "cell_type": "code",
   "execution_count": 1,
   "metadata": {},
   "outputs": [
    {
     "data": {
      "text/plain": [
       "id                       0\n",
       "bayes_average            0\n",
       "year_published           0\n",
       "min_players              0\n",
       "max_players              0\n",
       "playing_time             0\n",
       "min_playtime             0\n",
       "max_playtime             0\n",
       "age                      0\n",
       "name                     0\n",
       "description              0\n",
       "thumbnail                0\n",
       "image                    0\n",
       "boardgame_publisher      0\n",
       "boardgame_category       0\n",
       "videogame_bg           754\n",
       "boardgame_designer       0\n",
       "boardgame_artist        24\n",
       "boardgame_mechanic       0\n",
       "boardgame_subdomain      0\n",
       "dtype: int64"
      ]
     },
     "execution_count": 1,
     "metadata": {},
     "output_type": "execute_result"
    }
   ],
   "source": [
    "import pandas as pd\n",
    "df = pd.read_csv('bgg_games_info.csv')\n",
    "df.isna().sum()"
   ]
  },
  {
   "cell_type": "code",
   "execution_count": 3,
   "metadata": {},
   "outputs": [
    {
     "data": {
      "text/plain": [
       "id                     0\n",
       "bayes_average          0\n",
       "year_published         0\n",
       "min_players            0\n",
       "max_players            0\n",
       "playing_time           0\n",
       "min_playtime           0\n",
       "max_playtime           0\n",
       "age                    0\n",
       "name                   0\n",
       "description            0\n",
       "thumbnail              0\n",
       "image                  0\n",
       "boardgame_publisher    0\n",
       "boardgame_category     0\n",
       "videogame_bg           0\n",
       "boardgame_designer     0\n",
       "boardgame_artist       0\n",
       "boardgame_mechanic     0\n",
       "boardgame_subdomain    0\n",
       "dtype: int64"
      ]
     },
     "execution_count": 3,
     "metadata": {},
     "output_type": "execute_result"
    }
   ],
   "source": [
    "cleaned_df = df\n",
    "cleaned_df['videogame_bg'] = cleaned_df['videogame_bg'].fillna('N/A')\n",
    "cleaned_df['boardgame_artist'] = cleaned_df['boardgame_artist'].fillna('N/A')\n",
    "df.isna().sum()"
   ]
  },
  {
   "cell_type": "code",
   "execution_count": 4,
   "metadata": {},
   "outputs": [],
   "source": [
    "cleaned_df.to_parquet('bgg_games_info_cleaned.parquet.gzip', compression='gzip')"
   ]
  }
 ],
 "metadata": {
  "kernelspec": {
   "display_name": "bibooTaxed",
   "language": "python",
   "name": "python3"
  },
  "language_info": {
   "codemirror_mode": {
    "name": "ipython",
    "version": 3
   },
   "file_extension": ".py",
   "mimetype": "text/x-python",
   "name": "python",
   "nbconvert_exporter": "python",
   "pygments_lexer": "ipython3",
   "version": "3.11.8"
  }
 },
 "nbformat": 4,
 "nbformat_minor": 2
}
